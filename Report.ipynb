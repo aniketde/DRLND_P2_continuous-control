{
 "cells": [
  {
   "cell_type": "markdown",
   "metadata": {},
   "source": [
    "\n",
    "# Project 2: Continuous Control"
   ]
  },
  {
   "cell_type": "markdown",
   "metadata": {},
   "source": [
    "[image1]: https://user-images.githubusercontent.com/10624937/43851024-320ba930-9aff-11e8-8493-ee547c6af349.gif \"Trained Agent\"\n",
    "\n",
    "### Introduction\n",
    "\n",
    "For this project, you will work with the [Reacher](https://github.com/Unity-Technologies/ml-agents/blob/master/docs/Learning-Environment-Examples.md#reacher) environment.\n",
    "\n",
    "![Trained Agent][image1]\n",
    "  \n",
    "In this environment, a double-jointed arm can move to target locations. A reward of +0.1 is provided for each step that the agent's hand is in the goal location. Thus, the goal of your agent is to maintain its position at the target location for as many time steps as possible.\n",
    "\n",
    "The observation space consists of 33 variables corresponding to position, rotation, velocity, and angular velocities of the arm. Each action is a vector with four numbers, corresponding to torque applicable to two joints. Every entry in the action vector should be a number between -1 and 1.\n",
    "\n",
    "The environment is considered solved, when the average (over 100 episodes) of those average scores is at least +30."
   ]
  },
  {
   "cell_type": "markdown",
   "metadata": {},
   "source": [
    "Your agents must get an average score of +30 (over 100 consecutive episodes, and over all agents). Specifically,\n",
    "\n",
    "- After each episode, we add up the rewards that each agent received (without discounting), to get a score for each agent. This yields 20 (potentially different) scores. We then take the average of these 20 scores.\n",
    "\n",
    "- This yields an average score for each episode (where the average is over all 20 agents).\n"
   ]
  },
  {
   "cell_type": "markdown",
   "metadata": {},
   "source": [
    "#### DDPG Agent\n",
    "DDPG agent, [ddpg_agent.py](ddpg_agent.py), implements the DDPG algorithm from [DDPG paper](https://arxiv.org/pdf/1509.02971): policy gradient algorithm that employs actor-critic model.\n",
    "Following are the Actor network parameters: "
   ]
  },
  {
   "cell_type": "code",
   "execution_count": 8,
   "metadata": {},
   "outputs": [
    {
     "name": "stdout",
     "output_type": "stream",
     "text": [
      "----------------------------------------------------------------\n",
      "        Layer (type)               Output Shape         Param #\n",
      "================================================================\n",
      "       BatchNorm1d-1                   [-1, 33]              66\n",
      "            Linear-2                  [-1, 512]          17,408\n",
      "            Linear-3                  [-1, 512]         262,656\n",
      "            Linear-4                  [-1, 512]         262,656\n",
      "            Linear-5                  [-1, 256]         131,328\n",
      "            Linear-6                  [-1, 256]          65,792\n",
      "            Linear-7                    [-1, 4]           1,028\n",
      "================================================================\n",
      "Total params: 740,934\n",
      "Trainable params: 740,934\n",
      "Non-trainable params: 0\n",
      "----------------------------------------------------------------\n",
      "Input size (MB): 0.00\n",
      "Forward/backward pass size (MB): 0.02\n",
      "Params size (MB): 2.83\n",
      "Estimated Total Size (MB): 2.84\n",
      "----------------------------------------------------------------\n"
     ]
    }
   ],
   "source": [
    "from model import Actor\n",
    "from torchsummary import summary\n",
    "state_size = 33\n",
    "action_size = 4\n",
    "actor_model = Actor(state_size, action_size, 2 )\n",
    "summary(actor_model, (state_size,))"
   ]
  },
  {
   "cell_type": "markdown",
   "metadata": {},
   "source": [
    "Critic network parameters:"
   ]
  },
  {
   "cell_type": "code",
   "execution_count": 9,
   "metadata": {},
   "outputs": [
    {
     "name": "stdout",
     "output_type": "stream",
     "text": [
      "----------------------------------------------------------------\n",
      "        Layer (type)               Output Shape         Param #\n",
      "================================================================\n",
      "       BatchNorm1d-1                   [-1, 33]              66\n",
      "            Linear-2                  [-1, 512]          17,408\n",
      "            Linear-3                  [-1, 512]         264,704\n",
      "            Linear-4                  [-1, 512]         262,656\n",
      "            Linear-5                  [-1, 256]         131,328\n",
      "            Linear-6                  [-1, 256]          65,792\n",
      "            Linear-7                    [-1, 1]             257\n",
      "================================================================\n",
      "Total params: 742,211\n",
      "Trainable params: 742,211\n",
      "Non-trainable params: 0\n",
      "----------------------------------------------------------------\n",
      "Input size (MB): 0.00\n",
      "Forward/backward pass size (MB): 0.02\n",
      "Params size (MB): 2.83\n",
      "Estimated Total Size (MB): 2.85\n",
      "----------------------------------------------------------------\n"
     ]
    }
   ],
   "source": [
    "from model import Critic\n",
    "\n",
    "critic_model = Critic(state_size, action_size, 2 )\n",
    "summary(critic_model, [(state_size,), (action_size,)])"
   ]
  },
  {
   "cell_type": "markdown",
   "metadata": {},
   "source": [
    "- I employ soft updates for both networks (actor and critic) for a stable learning process. Parameter $\\tau$ controls those updates. \n",
    "    $$\n",
    "    \\theta_{target} = \\tau*\\theta_{local} + (1-\\tau)*\\theta_{target}\n",
    "    $$\n",
    "    \n",
    "-  The actor network is learned to increase Q-values of good actions and decrease Q-values of bad actions. \n",
    "-  The critic network is learned with temporal difference(TD) learning.\n",
    "    $$\n",
    "    y_t = r_t + discount * Q'(s_{t+1},a,\\theta_t')\n",
    "    $$    $$\n",
    "    L^{critic} = \\frac{1}{N}\\sum(y_t - Q(s_t,a,\\theta_t))^2\n",
    "    $$\n",
    "\n"
   ]
  },
  {
   "cell_type": "markdown",
   "metadata": {},
   "source": [
    "#### Hyper-Parameters\n",
    "- Replay buffer size **1e5**.\n",
    "- Minibatch size = **128**.\n",
    "- Discount factor = **0.99**.\n",
    "- Actor learning rate of **1e-4** \n",
    "- Critic learning rate of **1e-3**."
   ]
  },
  {
   "cell_type": "markdown",
   "metadata": {},
   "source": [
    "#### Result\n",
    "The following is training result, which is resolved in 10 episodes with average score of 30.11 over the last 100 episodes.\n",
    "\n",
    "![Result](scores_episodes.png)"
   ]
  },
  {
   "cell_type": "code",
   "execution_count": null,
   "metadata": {},
   "outputs": [],
   "source": []
  },
  {
   "cell_type": "code",
   "execution_count": null,
   "metadata": {},
   "outputs": [],
   "source": []
  }
 ],
 "metadata": {
  "kernelspec": {
   "display_name": "Python 3",
   "language": "python",
   "name": "python3"
  },
  "language_info": {
   "codemirror_mode": {
    "name": "ipython",
    "version": 3
   },
   "file_extension": ".py",
   "mimetype": "text/x-python",
   "name": "python",
   "nbconvert_exporter": "python",
   "pygments_lexer": "ipython3",
   "version": "3.6.9"
  }
 },
 "nbformat": 4,
 "nbformat_minor": 2
}
